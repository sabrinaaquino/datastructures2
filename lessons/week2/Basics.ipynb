{
 "cells": [
  {
   "cell_type": "markdown",
   "metadata": {},
   "source": [
    "# Mobile App Analysis for Maximizing User Engagement"
   ]
  },
  {
   "cell_type": "markdown",
   "metadata": {},
   "source": [
    "In this project, we'll be analyzing data from the Android and iOS mobile app stores to help our company understand what type of free-to-download apps attract the most users. Our main source of revenue is in-app ads, so it's important for us to understand what factors contribute to user engagement.\n",
    "\n",
    "The goal of this project is to help our developers create more successful apps by identifying trends in user preferences and behavior. We'll be looking at various factors such as app category, size, price, and user ratings to determine what makes an app more appealing to users. Ultimately, we want to use this information to make informed decisions about what types of apps to create in the future, with the goal of maximizing user engagement and increasing revenue."
   ]
  },
  {
   "cell_type": "code",
   "execution_count": 8,
   "metadata": {},
   "outputs": [],
   "source": [
    "from csv import reader\n",
    "\n",
    "### The Google Play data set ###\n",
    "opened_file = open('googleplaystore.csv')\n",
    "read_file = reader(opened_file)\n",
    "android = list(read_file)\n",
    "android_header = android[0]\n",
    "android = android[1:]\n",
    "\n",
    "### The App Store data set ###\n",
    "opened_file = open('AppleStore.csv')\n",
    "read_file = reader(opened_file)\n",
    "ios = list(read_file)\n",
    "ios_header = ios[0]\n",
    "ios = ios[1:]"
   ]
  },
  {
   "cell_type": "code",
   "execution_count": 9,
   "metadata": {},
   "outputs": [],
   "source": [
    "def explore_data(dataset, start, end, rows_and_columns=False):\n",
    "    dataset_slice = dataset[start:end]    \n",
    "    for row in dataset_slice:\n",
    "        print(row)\n",
    "        print('\\n') # adds a new (empty) line after each row\n",
    "    \n",
    "    if rows_and_columns:\n",
    "        print('Number of rows:', len(dataset))\n",
    "        print('Number of columns:', len(dataset[0]))\n"
   ]
  },
  {
   "cell_type": "markdown",
   "metadata": {},
   "source": [
    "## Let's take a look at the App Store data set."
   ]
  },
  {
   "cell_type": "code",
   "execution_count": 10,
   "metadata": {},
   "outputs": [
    {
     "name": "stdout",
     "output_type": "stream",
     "text": [
      "AppleStore.csv:\n",
      "\n",
      "['id', 'track_name', 'size_bytes', 'currency', 'price', 'rating_count_tot', 'rating_count_ver', 'user_rating', 'user_rating_ver', 'ver', 'cont_rating', 'prime_genre', 'sup_devices.num', 'ipadSc_urls.num', 'lang.num', 'vpp_lic']\n",
      "\n",
      "\n",
      "['284882215', 'Facebook', '389879808', 'USD', '0.0', '2974676', '212', '3.5', '3.5', '95.0', '4+', 'Social Networking', '37', '1', '29', '1']\n",
      "\n",
      "\n",
      "['389801252', 'Instagram', '113954816', 'USD', '0.0', '2161558', '1289', '4.5', '4.0', '10.23', '12+', 'Photo & Video', '37', '0', '29', '1']\n",
      "\n",
      "\n",
      "['529479190', 'Clash of Clans', '116476928', 'USD', '0.0', '2130805', '579', '4.5', '4.5', '9.24.12', '9+', 'Games', '38', '5', '18', '1']\n",
      "\n",
      "\n",
      "['420009108', 'Temple Run', '65921024', 'USD', '0.0', '1724546', '3842', '4.5', '4.0', '1.6.2', '9+', 'Games', '40', '5', '1', '1']\n",
      "\n",
      "\n",
      "Number of rows: 7198\n",
      "Number of columns: 16\n"
     ]
    }
   ],
   "source": [
    "# Open AppleStore.csv and save as list of lists\n",
    "with open('AppleStore.csv', encoding='utf8') as file:\n",
    "    apple_data = list(csv.reader(file))\n",
    "\n",
    "# Explore AppleStore.csv\n",
    "print('AppleStore.csv:\\n')\n",
    "explore_data(apple_data, 0, 5, True)"
   ]
  },
  {
   "cell_type": "markdown",
   "metadata": {},
   "source": [
    "## Here's the Google Play data set"
   ]
  },
  {
   "cell_type": "code",
   "execution_count": 12,
   "metadata": {},
   "outputs": [
    {
     "name": "stdout",
     "output_type": "stream",
     "text": [
      "googleplaystore.csv:\n",
      "\n",
      "['App', 'Category', 'Rating', 'Reviews', 'Size', 'Installs', 'Type', 'Price', 'Content Rating', 'Genres', 'Last Updated', 'Current Ver', 'Android Ver']\n",
      "\n",
      "\n",
      "['Photo Editor & Candy Camera & Grid & ScrapBook', 'ART_AND_DESIGN', '4.1', '159', '19M', '10,000+', 'Free', '0', 'Everyone', 'Art & Design', 'January 7, 2018', '1.0.0', '4.0.3 and up']\n",
      "\n",
      "\n",
      "['Coloring book moana', 'ART_AND_DESIGN', '3.9', '967', '14M', '500,000+', 'Free', '0', 'Everyone', 'Art & Design;Pretend Play', 'January 15, 2018', '2.0.0', '4.0.3 and up']\n",
      "\n",
      "\n",
      "['U Launcher Lite – FREE Live Cool Themes, Hide Apps', 'ART_AND_DESIGN', '4.7', '87510', '8.7M', '5,000,000+', 'Free', '0', 'Everyone', 'Art & Design', 'August 1, 2018', '1.2.4', '4.0.3 and up']\n",
      "\n",
      "\n",
      "['Sketch - Draw & Paint', 'ART_AND_DESIGN', '4.5', '215644', '25M', '50,000,000+', 'Free', '0', 'Teen', 'Art & Design', 'June 8, 2018', 'Varies with device', '4.2 and up']\n",
      "\n",
      "\n",
      "Number of rows: 10842\n",
      "Number of columns: 13\n"
     ]
    }
   ],
   "source": [
    "# Open googleplaystore.csv and save as list of lists\n",
    "with open('googleplaystore.csv', encoding='utf8') as file:\n",
    "    google_data = list(csv.reader(file))\n",
    "\n",
    "# Explore googleplaystore.csv\n",
    "print('googleplaystore.csv:\\n')\n",
    "explore_data(google_data, 0, 5, True)"
   ]
  },
  {
   "cell_type": "markdown",
   "metadata": {},
   "source": [
    "## Deleting the Wrong Data"
   ]
  },
  {
   "cell_type": "code",
   "execution_count": 13,
   "metadata": {},
   "outputs": [
    {
     "name": "stdout",
     "output_type": "stream",
     "text": [
      "['Life Made WI-Fi Touchscreen Photo Frame', '1.9', '19', '3.0M', '1,000+', 'Free', '0', 'Everyone', '', 'February 11, 2018', '1.0.19', '4.0 and up']\n",
      "\n",
      "\n",
      "['App', 'Category', 'Rating', 'Reviews', 'Size', 'Installs', 'Type', 'Price', 'Content Rating', 'Genres', 'Last Updated', 'Current Ver', 'Android Ver']\n",
      "\n",
      "\n",
      "['Photo Editor & Candy Camera & Grid & ScrapBook', 'ART_AND_DESIGN', '4.1', '159', '19M', '10,000+', 'Free', '0', 'Everyone', 'Art & Design', 'January 7, 2018', '1.0.0', '4.0.3 and up']\n"
     ]
    }
   ],
   "source": [
    "print(android[10472])  # incorrect row\n",
    "print('\\n')\n",
    "print(android_header)  # header\n",
    "print('\\n')\n",
    "print(android[0])      # correct row\n"
   ]
  },
  {
   "cell_type": "markdown",
   "metadata": {},
   "source": [
    "## Removing Duplicate Entries"
   ]
  },
  {
   "cell_type": "code",
   "execution_count": 17,
   "metadata": {},
   "outputs": [
    {
     "name": "stdout",
     "output_type": "stream",
     "text": [
      "['Instagram', 'SOCIAL', '4.5', '66577313', 'Varies with device', '1,000,000,000+', 'Free', '0', 'Teen', 'Social', 'July 31, 2018', 'Varies with device', 'Varies with device']\n",
      "['Instagram', 'SOCIAL', '4.5', '66577446', 'Varies with device', '1,000,000,000+', 'Free', '0', 'Teen', 'Social', 'July 31, 2018', 'Varies with device', 'Varies with device']\n",
      "['Instagram', 'SOCIAL', '4.5', '66577313', 'Varies with device', '1,000,000,000+', 'Free', '0', 'Teen', 'Social', 'July 31, 2018', 'Varies with device', 'Varies with device']\n",
      "['Instagram', 'SOCIAL', '4.5', '66509917', 'Varies with device', '1,000,000,000+', 'Free', '0', 'Teen', 'Social', 'July 31, 2018', 'Varies with device', 'Varies with device']\n"
     ]
    }
   ],
   "source": [
    "for app in android:\n",
    "    name = app[0]\n",
    "    if name == 'Instagram':\n",
    "        print(app)"
   ]
  },
  {
   "cell_type": "code",
   "execution_count": 23,
   "metadata": {},
   "outputs": [
    {
     "name": "stdout",
     "output_type": "stream",
     "text": [
      "Number of duplicate apps: 1181\n"
     ]
    }
   ],
   "source": [
    "duplicate_apps = []\n",
    "unique_apps = []\n",
    "\n",
    "for app in android:\n",
    "    name = app[0]\n",
    "    if name in unique_apps:\n",
    "        duplicate_apps.append(name)\n",
    "    else:\n",
    "        unique_apps.append(name)\n",
    "    \n",
    "print('Number of duplicate apps:', len(duplicate_apps))"
   ]
  },
  {
   "cell_type": "code",
   "execution_count": 28,
   "metadata": {},
   "outputs": [],
   "source": [
    "reviews_max = {}\n",
    "\n",
    "for app in android:\n",
    "    name = app[0]\n",
    "    try:\n",
    "        n_reviews = float(app[3])\n",
    "    except ValueError:\n",
    "        continue\n",
    "    \n",
    "    if name in reviews_max and reviews_max[name] < n_reviews:\n",
    "        reviews_max[name] = n_reviews\n",
    "    elif name not in reviews_max:\n",
    "        reviews_max[name] = n_reviews"
   ]
  },
  {
   "cell_type": "code",
   "execution_count": 24,
   "metadata": {},
   "outputs": [
    {
     "name": "stdout",
     "output_type": "stream",
     "text": [
      "Expected length: 9660\n",
      "Actual length: 9300\n"
     ]
    }
   ],
   "source": [
    "print('Expected length:', len(android) - 1181)\n",
    "print('Actual length:', len(reviews_max))"
   ]
  },
  {
   "cell_type": "code",
   "execution_count": 29,
   "metadata": {},
   "outputs": [],
   "source": [
    "android_clean = []\n",
    "already_added = []\n",
    "\n",
    "for app in android:\n",
    "    name = app[0]\n",
    "    try:\n",
    "        n_reviews = float(app[3])\n",
    "    except ValueError:\n",
    "        continue\n",
    "    \n",
    "    if (reviews_max[name] == n_reviews) and (name not in already_added):\n",
    "        android_clean.append(app)\n",
    "        already_added.append(name)"
   ]
  },
  {
   "cell_type": "markdown",
   "metadata": {},
   "source": [
    "## New Data Set"
   ]
  },
  {
   "cell_type": "code",
   "execution_count": 30,
   "metadata": {},
   "outputs": [
    {
     "name": "stdout",
     "output_type": "stream",
     "text": [
      "['Photo Editor & Candy Camera & Grid & ScrapBook', 'ART_AND_DESIGN', '4.1', '159', '19M', '10,000+', 'Free', '0', 'Everyone', 'Art & Design', 'January 7, 2018', '1.0.0', '4.0.3 and up']\n",
      "\n",
      "\n",
      "['U Launcher Lite – FREE Live Cool Themes, Hide Apps', 'ART_AND_DESIGN', '4.7', '87510', '8.7M', '5,000,000+', 'Free', '0', 'Everyone', 'Art & Design', 'August 1, 2018', '1.2.4', '4.0.3 and up']\n",
      "\n",
      "\n",
      "['Sketch - Draw & Paint', 'ART_AND_DESIGN', '4.5', '215644', '25M', '50,000,000+', 'Free', '0', 'Teen', 'Art & Design', 'June 8, 2018', 'Varies with device', '4.2 and up']\n",
      "\n",
      "\n",
      "Number of rows: 9659\n",
      "Number of columns: 13\n"
     ]
    }
   ],
   "source": [
    "explore_data(android_clean, 0, 3, True)"
   ]
  },
  {
   "cell_type": "markdown",
   "metadata": {},
   "source": [
    "# Removing Non-English Apps"
   ]
  },
  {
   "cell_type": "code",
   "execution_count": 35,
   "metadata": {},
   "outputs": [],
   "source": [
    "def is_english(string):\n",
    "    non_ascii = 0\n",
    "    \n",
    "    for character in string:\n",
    "        if ord(character) > 127:\n",
    "            non_ascii += 1\n",
    "    \n",
    "    if non_ascii > 3:\n",
    "        return False\n",
    "    else:\n",
    "        return True"
   ]
  },
  {
   "cell_type": "code",
   "execution_count": 36,
   "metadata": {},
   "outputs": [],
   "source": [
    "android_english = []\n",
    "ios_english = []\n",
    "\n",
    "for app in android_clean:\n",
    "    name = app[0]\n",
    "    if is_english(name):\n",
    "        android_english.append(app)\n",
    "        \n",
    "for app in ios:\n",
    "    name = app[1]\n",
    "    if is_english(name):\n",
    "        ios_english.append(app)"
   ]
  },
  {
   "cell_type": "code",
   "execution_count": 37,
   "metadata": {},
   "outputs": [
    {
     "name": "stdout",
     "output_type": "stream",
     "text": [
      "['Photo Editor & Candy Camera & Grid & ScrapBook', 'ART_AND_DESIGN', '4.1', '159', '19M', '10,000+', 'Free', '0', 'Everyone', 'Art & Design', 'January 7, 2018', '1.0.0', '4.0.3 and up']\n",
      "\n",
      "\n",
      "['U Launcher Lite – FREE Live Cool Themes, Hide Apps', 'ART_AND_DESIGN', '4.7', '87510', '8.7M', '5,000,000+', 'Free', '0', 'Everyone', 'Art & Design', 'August 1, 2018', '1.2.4', '4.0.3 and up']\n",
      "\n",
      "\n",
      "['Sketch - Draw & Paint', 'ART_AND_DESIGN', '4.5', '215644', '25M', '50,000,000+', 'Free', '0', 'Teen', 'Art & Design', 'June 8, 2018', 'Varies with device', '4.2 and up']\n",
      "\n",
      "\n",
      "Number of rows: 9614\n",
      "Number of columns: 13\n",
      "\n",
      "\n",
      "['284882215', 'Facebook', '389879808', 'USD', '0.0', '2974676', '212', '3.5', '3.5', '95.0', '4+', 'Social Networking', '37', '1', '29', '1']\n",
      "\n",
      "\n",
      "['389801252', 'Instagram', '113954816', 'USD', '0.0', '2161558', '1289', '4.5', '4.0', '10.23', '12+', 'Photo & Video', '37', '0', '29', '1']\n",
      "\n",
      "\n",
      "['529479190', 'Clash of Clans', '116476928', 'USD', '0.0', '2130805', '579', '4.5', '4.5', '9.24.12', '9+', 'Games', '38', '5', '18', '1']\n",
      "\n",
      "\n",
      "Number of rows: 6183\n",
      "Number of columns: 16\n"
     ]
    }
   ],
   "source": [
    "explore_data(android_english, 0, 3, True)\n",
    "print('\\n')\n",
    "explore_data(ios_english, 0, 3, True)"
   ]
  },
  {
   "cell_type": "markdown",
   "metadata": {},
   "source": [
    "# Most Common Apps by Genre"
   ]
  },
  {
   "cell_type": "code",
   "execution_count": 38,
   "metadata": {},
   "outputs": [],
   "source": [
    "def freq_table(dataset, index):\n",
    "    table = {}\n",
    "    total = 0\n",
    "    \n",
    "    for row in dataset:\n",
    "        total += 1\n",
    "        value = row[index]\n",
    "        if value in table:\n",
    "            table[value] += 1\n",
    "        else:\n",
    "            table[value] = 1\n",
    "    \n",
    "    table_percentages = {}\n",
    "    for key in table:\n",
    "        percentage = (table[key] / total) * 100\n",
    "        table_percentages[key] = percentage \n",
    "    \n",
    "    return table_percentages\n",
    "\n",
    "def display_table(dataset, index):\n",
    "    table = freq_table(dataset, index)\n",
    "    table_display = []\n",
    "    for key in table:\n",
    "        key_val_as_tuple = (table[key], key)\n",
    "        table_display.append(key_val_as_tuple)\n",
    "        \n",
    "    table_sorted = sorted(table_display, reverse = True)\n",
    "    for entry in table_sorted:\n",
    "        print(entry[1], ':', entry[0])\n"
   ]
  },
  {
   "cell_type": "code",
   "execution_count": 39,
   "metadata": {},
   "outputs": [
    {
     "name": "stdout",
     "output_type": "stream",
     "text": [
      "Games : 54.860100274947435\n",
      "Entertainment : 7.261846999838266\n",
      "Education : 6.6310852337053205\n",
      "Photo & Video : 5.515122109008572\n",
      "Utilities : 3.4449296458030085\n",
      "Productivity : 2.7171276079573023\n",
      "Health & Fitness : 2.6686074721009216\n",
      "Music : 2.215752870774705\n",
      "Social Networking : 2.037845705967977\n",
      "Sports : 1.6820313763545207\n",
      "Lifestyle : 1.6011644832605532\n",
      "Shopping : 1.3747371825974446\n",
      "Weather : 1.1159631246967492\n",
      "Travel : 0.9704027171276078\n",
      "News : 0.9218825812712276\n",
      "Book : 0.8895358240336406\n",
      "Reference : 0.8571890667960537\n",
      "Business : 0.8571890667960537\n",
      "Finance : 0.7924955523208799\n",
      "Food & Drink : 0.7116286592269124\n",
      "Navigation : 0.452854601326217\n",
      "Medical : 0.3396409509946628\n",
      "Catalogs : 0.08086689309396733\n"
     ]
    }
   ],
   "source": [
    "display_table(ios_english, -5)"
   ]
  },
  {
   "cell_type": "markdown",
   "metadata": {},
   "source": [
    "# Most Common Apps by Genre: Part Two"
   ]
  },
  {
   "cell_type": "code",
   "execution_count": 47,
   "metadata": {},
   "outputs": [
    {
     "name": "stdout",
     "output_type": "stream",
     "text": [
      "App Store prime_genre Frequency Table:\n",
      "Games : 54.860100274947435\n",
      "Entertainment : 7.261846999838266\n",
      "Education : 6.6310852337053205\n",
      "Photo & Video : 5.515122109008572\n",
      "Utilities : 3.4449296458030085\n",
      "Productivity : 2.7171276079573023\n",
      "Health & Fitness : 2.6686074721009216\n",
      "Music : 2.215752870774705\n",
      "Social Networking : 2.037845705967977\n",
      "Sports : 1.6820313763545207\n",
      "Lifestyle : 1.6011644832605532\n",
      "Shopping : 1.3747371825974446\n",
      "Weather : 1.1159631246967492\n",
      "Travel : 0.9704027171276078\n",
      "News : 0.9218825812712276\n",
      "Book : 0.8895358240336406\n",
      "Reference : 0.8571890667960537\n",
      "Business : 0.8571890667960537\n",
      "Finance : 0.7924955523208799\n",
      "Food & Drink : 0.7116286592269124\n",
      "Navigation : 0.452854601326217\n",
      "Medical : 0.3396409509946628\n",
      "Catalogs : 0.08086689309396733\n",
      "\n",
      "\n",
      "Google Play Genres Frequency Table:\n",
      "Tools : 8.602038693571874\n",
      "Entertainment : 5.793634283336801\n",
      "Education : 5.231953401289786\n",
      "Business : 4.358227584772207\n",
      "Medical : 4.108591637195756\n",
      "Personalization : 3.900561680882047\n",
      "Productivity : 3.879758685250676\n",
      "Lifestyle : 3.775743707093822\n",
      "Finance : 3.588516746411483\n",
      "Sports : 3.442895776991887\n",
      "Communication : 3.2660703141252343\n",
      "Action : 3.110047846889952\n",
      "Health & Fitness : 2.995631370917412\n",
      "Photography : 2.9124193883919283\n",
      "News & Magazines : 2.600374453921365\n",
      "Social : 2.485957977948825\n",
      "Travel & Local : 2.26752652381943\n",
      "Books & Reference : 2.26752652381943\n",
      "Shopping : 2.090701060952777\n",
      "Simulation : 1.9762845849802373\n",
      "Arcade : 1.9138755980861244\n",
      "Dating : 1.768254628666528\n",
      "Casual : 1.7162471395881007\n",
      "Video Players & Editors : 1.674641148325359\n",
      "Maps & Navigation : 1.3417932182234242\n",
      "Puzzle : 1.2377782400665696\n",
      "Food & Drink : 1.1649677553567712\n",
      "Role Playing : 1.0817557728312877\n",
      "Strategy : 0.9777407946744331\n",
      "Racing : 0.9465363012273768\n",
      "Libraries & Demo : 0.8737258165175785\n",
      "Auto & Vehicles : 0.8737258165175785\n",
      "Weather : 0.8217183274391513\n",
      "House & Home : 0.7593093405450385\n",
      "Adventure : 0.748907842729353\n",
      "Events : 0.6656958602038693\n",
      "Art & Design : 0.5824838776783856\n",
      "Comics : 0.5616808820470147\n",
      "Beauty : 0.5512793842313293\n",
      "Card : 0.48887039733721654\n",
      "Parenting : 0.4784688995215311\n",
      "Board : 0.43686290825878926\n",
      "Casino : 0.40565841481173287\n",
      "Educational;Education : 0.3952569169960474\n",
      "Trivia : 0.384855419180362\n",
      "Educational : 0.384855419180362\n",
      "Education;Education : 0.36405242354899103\n",
      "Casual;Pretend Play : 0.26003744539213647\n",
      "Word : 0.23923444976076555\n",
      "Music : 0.1976284584980237\n",
      "Puzzle;Brain Games : 0.1768254628666528\n",
      "Education;Pretend Play : 0.1768254628666528\n",
      "Racing;Action & Adventure : 0.16642396505096732\n",
      "Entertainment;Music & Video : 0.15602246723528188\n",
      "Board;Brain Games : 0.1456209694195964\n",
      "Arcade;Action & Adventure : 0.1456209694195964\n",
      "Educational;Pretend Play : 0.13521947160391096\n",
      "Casual;Action & Adventure : 0.13521947160391096\n",
      "Casual;Brain Games : 0.1248179737882255\n",
      "Action;Action & Adventure : 0.1248179737882255\n",
      "Simulation;Action & Adventure : 0.0728104847097982\n",
      "Parenting;Education : 0.0728104847097982\n",
      "Entertainment;Brain Games : 0.0728104847097982\n",
      "Parenting;Music & Video : 0.06240898689411275\n",
      "Educational;Brain Games : 0.06240898689411275\n",
      "Education;Creativity : 0.06240898689411275\n",
      "Casual;Creativity : 0.06240898689411275\n",
      "Art & Design;Creativity : 0.06240898689411275\n",
      "Educational;Creativity : 0.052007489078427296\n",
      "Adventure;Action & Adventure : 0.052007489078427296\n",
      "Sports;Action & Adventure : 0.04160599126274183\n",
      "Role Playing;Pretend Play : 0.04160599126274183\n",
      "Role Playing;Action & Adventure : 0.04160599126274183\n",
      "Education;Brain Games : 0.04160599126274183\n",
      "Education;Action & Adventure : 0.04160599126274183\n",
      "Simulation;Pretend Play : 0.031204493447056374\n",
      "Simulation;Education : 0.031204493447056374\n",
      "Puzzle;Action & Adventure : 0.031204493447056374\n",
      "Music;Music & Video : 0.031204493447056374\n",
      "Entertainment;Creativity : 0.031204493447056374\n",
      "Entertainment;Action & Adventure : 0.031204493447056374\n",
      "Educational;Action & Adventure : 0.031204493447056374\n",
      "Education;Music & Video : 0.031204493447056374\n",
      "Casual;Education : 0.031204493447056374\n",
      "Board;Action & Adventure : 0.031204493447056374\n",
      "Video Players & Editors;Music & Video : 0.020802995631370915\n",
      "Strategy;Action & Adventure : 0.020802995631370915\n",
      "Puzzle;Creativity : 0.020802995631370915\n",
      "Entertainment;Pretend Play : 0.020802995631370915\n",
      "Card;Action & Adventure : 0.020802995631370915\n",
      "Books & Reference;Education : 0.020802995631370915\n",
      "Video Players & Editors;Creativity : 0.010401497815685458\n",
      "Trivia;Education : 0.010401497815685458\n",
      "Travel & Local;Action & Adventure : 0.010401497815685458\n",
      "Tools;Education : 0.010401497815685458\n",
      "Strategy;Education : 0.010401497815685458\n",
      "Strategy;Creativity : 0.010401497815685458\n",
      "Role Playing;Education : 0.010401497815685458\n",
      "Role Playing;Brain Games : 0.010401497815685458\n",
      "Racing;Pretend Play : 0.010401497815685458\n",
      "Puzzle;Education : 0.010401497815685458\n",
      "Parenting;Brain Games : 0.010401497815685458\n",
      "Music & Audio;Music & Video : 0.010401497815685458\n",
      "Lifestyle;Pretend Play : 0.010401497815685458\n",
      "Lifestyle;Education : 0.010401497815685458\n",
      "Health & Fitness;Education : 0.010401497815685458\n",
      "Health & Fitness;Action & Adventure : 0.010401497815685458\n",
      "Entertainment;Education : 0.010401497815685458\n",
      "Communication;Creativity : 0.010401497815685458\n",
      "Comics;Creativity : 0.010401497815685458\n",
      "Casual;Music & Video : 0.010401497815685458\n",
      "Books & Reference;Creativity : 0.010401497815685458\n",
      "Board;Pretend Play : 0.010401497815685458\n",
      "Art & Design;Pretend Play : 0.010401497815685458\n",
      "Art & Design;Action & Adventure : 0.010401497815685458\n",
      "Arcade;Pretend Play : 0.010401497815685458\n",
      "Adventure;Education : 0.010401497815685458\n",
      "Adventure;Brain Games : 0.010401497815685458\n",
      "\n",
      "\n",
      "Google Play Category Frequency Table:\n",
      "FAMILY : 19.325982941543582\n",
      "GAME : 9.819013938007073\n",
      "TOOLS : 8.61244019138756\n",
      "BUSINESS : 4.358227584772207\n",
      "MEDICAL : 4.108591637195756\n",
      "PERSONALIZATION : 3.900561680882047\n",
      "PRODUCTIVITY : 3.879758685250676\n",
      "LIFESTYLE : 3.786145204909507\n",
      "FINANCE : 3.588516746411483\n",
      "SPORTS : 3.3804867900977738\n",
      "COMMUNICATION : 3.2660703141252343\n",
      "HEALTH_AND_FITNESS : 2.995631370917412\n",
      "PHOTOGRAPHY : 2.9124193883919283\n",
      "NEWS_AND_MAGAZINES : 2.600374453921365\n",
      "SOCIAL : 2.485957977948825\n",
      "TRAVEL_AND_LOCAL : 2.2779280216351157\n",
      "BOOKS_AND_REFERENCE : 2.26752652381943\n",
      "SHOPPING : 2.090701060952777\n",
      "DATING : 1.768254628666528\n",
      "VIDEO_PLAYERS : 1.6954441439567296\n",
      "MAPS_AND_NAVIGATION : 1.3417932182234242\n",
      "FOOD_AND_DRINK : 1.1649677553567712\n",
      "EDUCATION : 1.1025587684626585\n",
      "ENTERTAINMENT : 0.9049303099646349\n",
      "LIBRARIES_AND_DEMO : 0.8737258165175785\n",
      "AUTO_AND_VEHICLES : 0.8737258165175785\n",
      "WEATHER : 0.8217183274391513\n",
      "HOUSE_AND_HOME : 0.7593093405450385\n",
      "EVENTS : 0.6656958602038693\n",
      "PARENTING : 0.6240898689411275\n",
      "ART_AND_DESIGN : 0.6240898689411275\n",
      "COMICS : 0.5720823798627002\n",
      "BEAUTY : 0.5512793842313293\n"
     ]
    }
   ],
   "source": [
    "# App Store prime_genre frequency table\n",
    "print(\"App Store prime_genre Frequency Table:\")\n",
    "display_table(ios_english, -5)\n",
    "print(\"\\n\")\n",
    "\n",
    "# Google Play Genres frequency table\n",
    "print(\"Google Play Genres Frequency Table:\")\n",
    "display_table(android_english, -4)\n",
    "print(\"\\n\")\n",
    "\n",
    "# Google Play Category frequency table\n",
    "print(\"Google Play Category Frequency Table:\")\n",
    "display_table(android_english, 1)"
   ]
  },
  {
   "cell_type": "markdown",
   "metadata": {},
   "source": [
    "# Most Common Apps by Genre: Part Three"
   ]
  },
  {
   "attachments": {},
   "cell_type": "markdown",
   "metadata": {},
   "source": [
    "### App Store prime_genre Frequency Table analysis:\n",
    "\n",
    "The most common genre is 'Games' (54.86%), followed by 'Entertainment' (7.26%).\n",
    "Most of the apps on the App Store are designed for entertainment rather than practical purposes.\n",
    "Based on the frequency table alone, it is difficult to recommend an app profile for the App Store market. A large number of apps in a particular genre does not necessarily imply that the apps in that genre have a large number of users.\n",
    "Google Play Genres Frequency Table analysis:\n",
    "\n",
    "The most common genres for the Google Play dataset are 'Tools' (8.60%), 'Entertainment' (5.79%), and 'Education' (5.23%).\n",
    "The Google Play market has a more diverse range of app genres compared to the App Store.\n",
    "Comparing the patterns observed in the Google Play market with those of the App Store market, it is evident that the Google Play market has a better balance between practical and entertainment apps.\n",
    "\n",
    "### Recommendations based on the frequency tables:\n",
    "\n",
    "It is important to note that the frequency tables only show the most common app genres, not the genres with the most users.\n",
    "To make more informed recommendations, further analysis is required, such as looking into the average number of installs or ratings for each genre.\n",
    "However, based on the frequency tables, it seems that creating an app in the 'Education' or 'Entertainment' genres could be a viable option, as these genres are popular in both markets."
   ]
  },
  {
   "cell_type": "markdown",
   "metadata": {},
   "source": [
    "# Most Common Apps by Genre - Google Play"
   ]
  },
  {
   "cell_type": "code",
   "execution_count": 46,
   "metadata": {},
   "outputs": [
    {
     "name": "stdout",
     "output_type": "stream",
     "text": [
      "ART_AND_DESIGN : 1887285.0\n",
      "AUTO_AND_VEHICLES : 632501.3214285715\n",
      "BEAUTY : 513151.88679245283\n",
      "BOOKS_AND_REFERENCE : 7641777.871559633\n",
      "BUSINESS : 1663758.627684964\n",
      "COMICS : 817657.2727272727\n",
      "COMMUNICATION : 35153714.17515924\n",
      "DATING : 828971.2176470588\n",
      "EDUCATION : 1782566.0377358492\n",
      "ENTERTAINMENT : 11375402.298850575\n",
      "EVENTS : 249580.640625\n",
      "FINANCE : 1319851.4028985507\n",
      "FOOD_AND_DRINK : 1891060.2767857143\n",
      "HEALTH_AND_FITNESS : 3972300.388888889\n",
      "HOUSE_AND_HOME : 1331540.5616438356\n",
      "LIBRARIES_AND_DEMO : 630903.6904761905\n",
      "LIFESTYLE : 1369954.7774725275\n",
      "GAME : 14256217.600635594\n",
      "FAMILY : 3345018.516684607\n",
      "MEDICAL : 96944.49873417722\n",
      "SOCIAL : 22961790.384937238\n",
      "SHOPPING : 6966908.880597015\n",
      "PHOTOGRAPHY : 16636241.267857144\n",
      "SPORTS : 3373767.6861538463\n",
      "TRAVEL_AND_LOCAL : 13218662.767123288\n",
      "TOOLS : 9785955.211352658\n",
      "PERSONALIZATION : 4086652.4853333333\n",
      "PRODUCTIVITY : 15530942.008042896\n",
      "PARENTING : 525351.8333333334\n",
      "WEATHER : 4570892.658227848\n",
      "VIDEO_PLAYERS : 24121489.079754602\n",
      "NEWS_AND_MAGAZINES : 9472807.04\n",
      "MAPS_AND_NAVIGATION : 3900634.7286821706\n"
     ]
    }
   ],
   "source": [
    "unique_categories_android = freq_table(android_english, 1)\n",
    "\n",
    "for category in unique_categories_android:\n",
    "    total = 0 \n",
    "    len_category = 0 \n",
    "    \n",
    "    for app in android_english:\n",
    "        category_app = app[1]\n",
    "        \n",
    "        if category_app == category:\n",
    "            n_installs = app[5]\n",
    "            n_installs = n_installs.replace(',', '')\n",
    "            n_installs = n_installs.replace('+', '')\n",
    "            total += float(n_installs)\n",
    "            len_category += 1\n",
    "    \n",
    "    avg_n_installs = total / len_category\n",
    "    \n",
    "    print(category, ':', avg_n_installs)\n"
   ]
  },
  {
   "cell_type": "markdown",
   "metadata": {},
   "source": [
    "# Most Common Apps by Genre - App Store"
   ]
  },
  {
   "cell_type": "code",
   "execution_count": 44,
   "metadata": {},
   "outputs": [
    {
     "name": "stdout",
     "output_type": "stream",
     "text": [
      "Social Networking : 60253.84920634921\n",
      "Photo & Video : 14688.715542521993\n",
      "Games : 15586.759433962265\n",
      "Music : 29047.109489051094\n",
      "Reference : 27037.188679245282\n",
      "Health & Fitness : 10802.157575757576\n",
      "Weather : 23145.246376811596\n",
      "Utilities : 7927.525821596244\n",
      "Travel : 19030.183333333334\n",
      "Shopping : 26635.011764705883\n",
      "News : 16980.315789473683\n",
      "Navigation : 19370.821428571428\n",
      "Lifestyle : 8930.373737373737\n",
      "Entertainment : 8862.409799554565\n",
      "Food & Drink : 19934.386363636364\n",
      "Sports : 15350.913461538461\n",
      "Book : 10359.2\n",
      "Finance : 23353.530612244896\n",
      "Education : 2472.278048780488\n",
      "Productivity : 8508.089285714286\n",
      "Business : 5149.320754716981\n",
      "Catalogs : 3465.0\n",
      "Medical : 648.952380952381\n"
     ]
    }
   ],
   "source": [
    "unique_genres_ios = freq_table(ios_english, -5)\n",
    "\n",
    "for genre in unique_genres_ios:\n",
    "    total = 0 \n",
    "    len_genre = 0 \n",
    "    \n",
    "    for app in ios_english:\n",
    "        genre_app = app[-5]\n",
    "        \n",
    "        if genre_app == genre:\n",
    "            n_ratings = float(app[5]) \n",
    "            total += n_ratings \n",
    "            len_genre += 1 \n",
    "    \n",
    "    avg_n_ratings = total / len_genre\n",
    "    \n",
    "    print(genre, ':', avg_n_ratings)\n"
   ]
  },
  {
   "cell_type": "markdown",
   "metadata": {},
   "source": [
    "# Summary"
   ]
  },
  {
   "cell_type": "markdown",
   "metadata": {},
   "source": [
    "Our analysis suggests that creating an app based on a well-known or recent book can generate profits in both the Google Play and App Store ecosystems. Since there are numerous libraries and e-book apps, it's crucial to include unique features that distinguish our app from others. These features might consist of daily highlights from the book, an audiobook version, interactive quizzes, a dedicated discussion forum for readers, and other engaging elements to enrich the user experience."
   ]
  }
 ],
 "metadata": {
  "kernelspec": {
   "display_name": "Python 3",
   "language": "python",
   "name": "python3"
  },
  "language_info": {
   "codemirror_mode": {
    "name": "ipython",
    "version": 3
   },
   "file_extension": ".py",
   "mimetype": "text/x-python",
   "name": "python",
   "nbconvert_exporter": "python",
   "pygments_lexer": "ipython3",
   "version": "3.10.4 (tags/v3.10.4:9d38120, Mar 23 2022, 23:13:41) [MSC v.1929 64 bit (AMD64)]"
  },
  "vscode": {
   "interpreter": {
    "hash": "6483d42e64b705807ee7ab627fc5c3df04fe935c6b01693ce46ae2d688d3de35"
   }
  }
 },
 "nbformat": 4,
 "nbformat_minor": 2
}
